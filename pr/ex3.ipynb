{
 "cells": [
  {
   "cell_type": "code",
   "execution_count": 1,
   "id": "initial_id",
   "metadata": {
    "collapsed": true,
    "ExecuteTime": {
     "end_time": "2024-11-08T18:10:16.913931Z",
     "start_time": "2024-11-08T18:10:16.881933Z"
    }
   },
   "outputs": [],
   "source": [
    "import math"
   ]
  },
  {
   "cell_type": "code",
   "outputs": [
    {
     "name": "stdout",
     "output_type": "stream",
     "text": [
      "True\n"
     ]
    }
   ],
   "source": [
    "# Задание 1: Проверка, являются ли все элементы списка палиндромами\n",
    "def are_all_palindromes(items):\n",
    "    return all(str(item) == str(item)[::-1] for item in items)\n",
    "\n",
    "print(are_all_palindromes(['aba', 12321, 'aaccdccaa']))  # True"
   ],
   "metadata": {
    "collapsed": false,
    "ExecuteTime": {
     "end_time": "2024-11-08T18:11:13.384225Z",
     "start_time": "2024-11-08T18:11:13.368226Z"
    }
   },
   "id": "604aa5984c6f1f08",
   "execution_count": 3
  },
  {
   "cell_type": "code",
   "outputs": [
    {
     "name": "stdout",
     "output_type": "stream",
     "text": [
      "[0.0, 1.0986122886681098, 0.9162907318741551, None, 2.1972245773362196, None, 0.9969486348916096]\n"
     ]
    }
   ],
   "source": [
    "# Задание 2: Функция my_log для вычисления натурального логарифма списка чисел\n",
    "def my_log(numbers):\n",
    "    return [math.log(num) if num > 0 else None for num in numbers]\n",
    "\n",
    "print(my_log([1, 3, 2.5, -1, 9, 0, 2.71]))"
   ],
   "metadata": {
    "collapsed": false,
    "ExecuteTime": {
     "end_time": "2024-11-08T18:11:14.785616Z",
     "start_time": "2024-11-08T18:11:14.778615Z"
    }
   },
   "id": "b406c371b2f3212b",
   "execution_count": 4
  },
  {
   "cell_type": "code",
   "outputs": [
    {
     "name": "stdout",
     "output_type": "stream",
     "text": [
      "Список целых чисел: [1, 2, 3, 7, 100]\n",
      "Список чисел с плавающей точкой: [1.0, 2.0, 2.5, 3.0, 5.1, 7.0, 8.8, 100.0]\n"
     ]
    }
   ],
   "source": [
    "# Задание 3: Преобразование строки в списки целых и чисел с плавающей точкой\n",
    "def process_string():\n",
    "    string = \"1; 2; 2.5; 3; 5.1; 7; 8.8; 100\"\n",
    "    float_numbers = [float(x) for x in string.split(\"; \")]\n",
    "    int_numbers = [int(x) for x in float_numbers if x.is_integer()]\n",
    "    print(\"Список целых чисел:\", int_numbers)\n",
    "    print(\"Список чисел с плавающей точкой:\", float_numbers)\n",
    "\n",
    "process_string()"
   ],
   "metadata": {
    "collapsed": false,
    "ExecuteTime": {
     "end_time": "2024-11-08T18:11:19.377517Z",
     "start_time": "2024-11-08T18:11:19.370518Z"
    }
   },
   "id": "49471336c0857dbb",
   "execution_count": 5
  },
  {
   "cell_type": "code",
   "outputs": [
    {
     "name": "stdout",
     "output_type": "stream",
     "text": [
      "Студент: Иван, Питонов\n",
      "Возраст: 21\n",
      "Оценки: 8, 7, 7, 9, 6\n",
      "Средний балл: 7.4\n",
      "Повышенная стипендия: False\n"
     ]
    }
   ],
   "source": [
    "# Задание 4: Работа с кортежем\n",
    "def student_info():\n",
    "    student = ('Иван Питонов', 2001, [8, 7, 7, 9, 6], True)\n",
    "    name, birth_year, grades, on_budget = student\n",
    "    surname, firstname = name.split()\n",
    "    age = 2022 - birth_year\n",
    "    avg_grade = sum(grades) / len(grades)\n",
    "    is_scholarship = avg_grade >= 8 and on_budget\n",
    "\n",
    "    print(f\"Студент: {surname}, {firstname}\")\n",
    "    print(f\"Возраст: {age}\")\n",
    "    print(\"Оценки:\", ', '.join(map(str, grades)))\n",
    "    print(f\"Средний балл: {round(avg_grade, 1)}\")\n",
    "    print(\"Повышенная стипендия:\", is_scholarship)\n",
    "\n",
    "student_info()"
   ],
   "metadata": {
    "collapsed": false,
    "ExecuteTime": {
     "end_time": "2024-11-08T18:11:22.788638Z",
     "start_time": "2024-11-08T18:11:22.767631Z"
    }
   },
   "id": "2877af671761c987",
   "execution_count": 6
  },
  {
   "cell_type": "code",
   "outputs": [
    {
     "name": "stdout",
     "output_type": "stream",
     "text": [
      "['speak', 'to', 'me', 'of', 'florence', 'and', 'of', 'the', 'renaissance']\n"
     ]
    }
   ],
   "source": [
    "\n",
    "# Задание 5: Очистка и преобразование списка слов\n",
    "def clean_words(words):\n",
    "    return [word.strip().lower() for word in words]\n",
    "\n",
    "words = [\"Speak \", \"to\", \"me \", \"of\", \"Florence\", \"And \", \"of\", \"the\", \"Renaissance\"]\n",
    "print(clean_words(words))"
   ],
   "metadata": {
    "collapsed": false,
    "ExecuteTime": {
     "end_time": "2024-11-08T18:11:25.688722Z",
     "start_time": "2024-11-08T18:11:25.680721Z"
    }
   },
   "id": "949c1ed821d3de4a",
   "execution_count": 7
  },
  {
   "cell_type": "code",
   "outputs": [
    {
     "name": "stdout",
     "output_type": "stream",
     "text": [
      "Вася: 4\n",
      "Маша: Контрольную работу не писал(а)\n",
      "Петя: 9\n",
      "Дима: Контрольную работу не писал(а)\n",
      "Марина: 8\n",
      "Люба: 4\n",
      "Коля: 5\n",
      "Ваня: 10\n",
      "Отличные оценки: ['Петя', 'Марина', 'Ваня']\n",
      "good: ['Петя', 'Марина', 'Ваня'] bad: ['Вася', 'Люба', 'Коля']\n"
     ]
    }
   ],
   "source": [
    "# Задание 6: Работа со списком студентов и оценками\n",
    "def student_grades():\n",
    "    students = [\"Вася\", \"Маша\", \"Петя\", \"Дима\", \"Марина\", \"Люба\", \"Коля\", \"Ваня\"]\n",
    "    grades = {\"Вася\": 4, \"Петя\": 9, \"Марина\": 8, \"Люба\": 4, \"Коля\": 5, \"Ваня\": 10}\n",
    "\n",
    "    for student in students:\n",
    "        grade = grades.get(student, \"Контрольную работу не писал(а)\")\n",
    "        print(f\"{student}: {grade}\")\n",
    "\n",
    "    excellent_students = [name for name, grade in grades.items() if grade >= 8]\n",
    "    print(\"Отличные оценки:\", excellent_students)\n",
    "\n",
    "    good = [name for name, grade in grades.items() if grade >= 8]\n",
    "    bad = [name for name, grade in grades.items() if grade < 8]\n",
    "    print(\"good:\", good, \"bad:\", bad)\n",
    "\n",
    "student_grades()"
   ],
   "metadata": {
    "collapsed": false,
    "ExecuteTime": {
     "end_time": "2024-11-08T18:11:27.687093Z",
     "start_time": "2024-11-08T18:11:27.675090Z"
    }
   },
   "id": "a8939bf8e722c836",
   "execution_count": 8
  },
  {
   "cell_type": "code",
   "outputs": [
    {
     "name": "stdout",
     "output_type": "stream",
     "text": [
      "Курс 1 - 4\n"
     ]
    }
   ],
   "source": [
    "# Задание 7: Средняя оценка за курс\n",
    "def average_grade(marks, course_number):\n",
    "    course_index = course_number - 1\n",
    "    course_grades = [grades[course_index] for grades in marks.values()]\n",
    "    avg_grade = round(sum(course_grades) / len(course_grades))\n",
    "    print(f\"Курс {course_number} - {avg_grade}\")\n",
    "\n",
    "marks = {\n",
    "    'Mary': [5, 8, 9, 10, 3, 5, 6, 6],\n",
    "    'John': [3, 3, 6, 8, 2, 1, 8, 5],\n",
    "    'Alex': [4, 4, 7, 4, 7, 3, 2, 9],\n",
    "    'Patricia': [2, 1, 6, 8, 2, 3, 7, 4]\n",
    "}\n",
    "average_grade(marks, 1)\n"
   ],
   "metadata": {
    "collapsed": false,
    "ExecuteTime": {
     "end_time": "2024-11-08T18:11:30.410529Z",
     "start_time": "2024-11-08T18:11:30.400531Z"
    }
   },
   "id": "49b658254a8161c7",
   "execution_count": 9
  },
  {
   "cell_type": "code",
   "outputs": [
    {
     "name": "stdout",
     "output_type": "stream",
     "text": [
      "17\n"
     ]
    }
   ],
   "source": [
    "# Задание 8: Подсчет количества оценок выше или равных заданному значению\n",
    "def count_high_grades(marks, threshold):\n",
    "    count = sum(1 for grades in marks.values() for grade in grades if grade >= threshold)\n",
    "    print(count)\n",
    "\n",
    "count_high_grades(marks, 5)"
   ],
   "metadata": {
    "collapsed": false,
    "ExecuteTime": {
     "end_time": "2024-11-08T18:11:32.856161Z",
     "start_time": "2024-11-08T18:11:32.847167Z"
    }
   },
   "id": "c9b5c85000bd2560",
   "execution_count": 10
  },
  {
   "cell_type": "code",
   "outputs": [
    {
     "name": "stdout",
     "output_type": "stream",
     "text": [
      "Общая стоимость заказа: 33725 руб.\n"
     ]
    }
   ],
   "source": [
    "# Задание 9: Определение общей стоимости заказа\n",
    "def total_order_cost(user_cart):\n",
    "    total = sum(item['count'] * item['price'] for item in user_cart.values())\n",
    "    print(f\"Общая стоимость заказа: {total} руб.\")\n",
    "\n",
    "user_cart = {\n",
    "    'Камин комплект Старый Замок': {'count': 1, 'price': 28490},\n",
    "    'Полусапоги Betsy': {'count': 2, 'price': 2399},\n",
    "    'Семь навыков высокоэффективных людей': {'count': 1, 'price': 437}\n",
    "}\n",
    "total_order_cost(user_cart)"
   ],
   "metadata": {
    "collapsed": false,
    "ExecuteTime": {
     "end_time": "2024-11-08T18:11:34.262347Z",
     "start_time": "2024-11-08T18:11:34.254348Z"
    }
   },
   "id": "528666b8f2d2255e",
   "execution_count": 11
  }
 ],
 "metadata": {
  "kernelspec": {
   "display_name": "Python 3",
   "language": "python",
   "name": "python3"
  },
  "language_info": {
   "codemirror_mode": {
    "name": "ipython",
    "version": 2
   },
   "file_extension": ".py",
   "mimetype": "text/x-python",
   "name": "python",
   "nbconvert_exporter": "python",
   "pygments_lexer": "ipython2",
   "version": "2.7.6"
  }
 },
 "nbformat": 4,
 "nbformat_minor": 5
}
