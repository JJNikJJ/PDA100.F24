{
 "cells": [
  {
   "cell_type": "markdown",
   "source": [
    "Задание 1: В эту неделю вы спали 6.2, 7, 8, 5, 6.5, 7.1 и 8.5 часов. Вычислите среднюю продолжительность сна в часах. Использовать только пройденные темы."
   ],
   "metadata": {
    "collapsed": false
   },
   "id": "bbedb256f80b89ae"
  },
  {
   "cell_type": "code",
   "outputs": [
    {
     "name": "stdout",
     "output_type": "stream",
     "text": [
      "Средняя продолжительность сна: 6.9 часов\n"
     ]
    }
   ],
   "source": [
    "# Часы сна за неделю\n",
    "sleep_hours = [6.2, 7, 8, 5, 6.5, 7.1, 8.5]\n",
    "\n",
    "# Вычисление средней продолжительности сна\n",
    "average_sleep = sum(sleep_hours) / len(sleep_hours)\n",
    "\n",
    "print(\"Средняя продолжительность сна:\", average_sleep, \"часов\")\n"
   ],
   "metadata": {
    "collapsed": false,
    "ExecuteTime": {
     "end_time": "2024-11-09T07:50:14.958510Z",
     "start_time": "2024-11-09T07:50:14.934510Z"
    }
   },
   "id": "4f3bd1411124122b",
   "execution_count": 1
  },
  {
   "cell_type": "markdown",
   "source": [
    "Задание 2 Предположим, что вы хотите внести определенную сумму денег на сберегательный\n",
    "счет и оставить ее там для начисления процентного дохода в течение следующих 10\n",
    "лет. В конце 10-летнего срока вы хотели бы иметь на счету 10000 рублей. Сколько\n",
    "денег необходимо внести сегодня, чтобы это реализовать в будущем? Для того чтобы\n",
    "это узнать, можно воспользоваться формулой:\n",
    "P = F / ((1 + r) ** n)\n",
    "P - сумма, которую необходимо внести сегодня,\n",
    "F - будущее значение, которое вы хотите иметь на счету,\n",
    "r - годовая процентная ставка (Ключевая ставка Банка России 4,25),\n",
    "n - количество лет\n"
   ],
   "metadata": {
    "collapsed": false
   },
   "id": "6acb18985ab73888"
  },
  {
   "cell_type": "code",
   "outputs": [
    {
     "name": "stdout",
     "output_type": "stream",
     "text": [
      "Сумма, которую необходимо внести сегодня: 6595.37 рублей\n"
     ]
    }
   ],
   "source": [
    "# Заданные параметры\n",
    "F = 10000  # будущее значение в рублях\n",
    "r = 0.0425  # годовая процентная ставка\n",
    "n = 10  # количество лет\n",
    "\n",
    "# Расчёт необходимой суммы для внесения сегодня\n",
    "P = F / ((1 + r) ** n)\n",
    "\n",
    "print(\"Сумма, которую необходимо внести сегодня:\", round(P, 2), \"рублей\")\n"
   ],
   "metadata": {
    "collapsed": false,
    "ExecuteTime": {
     "end_time": "2024-11-09T07:50:19.734546Z",
     "start_time": "2024-11-09T07:50:19.722548Z"
    }
   },
   "id": "c8a7c798c453e5f8",
   "execution_count": 2
  },
  {
   "cell_type": "markdown",
   "source": [
    "Задание 3\n",
    "Значение 7.4654, округленное до трех знаков после запятой."
   ],
   "metadata": {
    "collapsed": false
   },
   "id": "c01cbcb62f724aa6"
  },
  {
   "cell_type": "code",
   "outputs": [],
   "source": [],
   "metadata": {
    "collapsed": false
   },
   "id": "69acb8b885f7798b"
  },
  {
   "cell_type": "code",
   "outputs": [
    {
     "name": "stdout",
     "output_type": "stream",
     "text": [
      "7.465\n"
     ]
    }
   ],
   "source": [
    "value = 7.4654\n",
    "rounded_value = round(value, 3)\n",
    "print(rounded_value)\n"
   ],
   "metadata": {
    "collapsed": false,
    "ExecuteTime": {
     "end_time": "2024-11-09T07:50:22.507362Z",
     "start_time": "2024-11-09T07:50:22.490363Z"
    }
   },
   "id": "992ac39e1abb64ce",
   "execution_count": 3
  },
  {
   "cell_type": "markdown",
   "source": [
    "Задание 4\n",
    "Определите абсолютное значение числа -6.8."
   ],
   "metadata": {
    "collapsed": false
   },
   "id": "5b5582831ccba971"
  },
  {
   "cell_type": "code",
   "outputs": [
    {
     "name": "stdout",
     "output_type": "stream",
     "text": [
      "6.8\n"
     ]
    }
   ],
   "source": [
    "abs_value = abs(-6.8)\n",
    "print(abs_value)"
   ],
   "metadata": {
    "collapsed": false,
    "ExecuteTime": {
     "end_time": "2024-11-08T17:37:57.253404Z",
     "start_time": "2024-11-08T17:37:57.232407Z"
    }
   },
   "id": "38ec4a4aec94cf68",
   "execution_count": 4
  },
  {
   "cell_type": "markdown",
   "source": [
    "Задание 5: Вычисление 12 ** 23 % 5 с использованием функции pow"
   ],
   "metadata": {
    "collapsed": false
   },
   "id": "72f3df15da55ee67"
  },
  {
   "cell_type": "code",
   "outputs": [
    {
     "name": "stdout",
     "output_type": "stream",
     "text": [
      "3\n"
     ]
    }
   ],
   "source": [
    "result_pow = pow(12, 23, 5)\n",
    "print(result_pow)"
   ],
   "metadata": {
    "collapsed": false,
    "ExecuteTime": {
     "end_time": "2024-11-08T17:37:59.480359Z",
     "start_time": "2024-11-08T17:37:59.466359Z"
    }
   },
   "id": "1cbbaa1c7d45c046",
   "execution_count": 5
  },
  {
   "cell_type": "markdown",
   "source": [
    " Задание 6: Повторение имени 10 раз и определение длины строки"
   ],
   "metadata": {
    "collapsed": false
   },
   "id": "b9e022c885132b49"
  },
  {
   "cell_type": "code",
   "outputs": [
    {
     "name": "stdout",
     "output_type": "stream",
     "text": [
      "60\n"
     ]
    }
   ],
   "source": [
    "name = \"Никита\"\n",
    "repeated_name = name * 10\n",
    "length_of_repeated_name = len(repeated_name)\n",
    "print(length_of_repeated_name)"
   ],
   "metadata": {
    "collapsed": false,
    "ExecuteTime": {
     "end_time": "2024-11-08T17:38:01.541950Z",
     "start_time": "2024-11-08T17:38:01.535955Z"
    }
   },
   "id": "421c74d0f3686d20",
   "execution_count": 6
  },
  {
   "cell_type": "markdown",
   "source": [
    "Задание 7: Объединение имени и фамилии в одну строку"
   ],
   "metadata": {
    "collapsed": false
   },
   "id": "a78a8564c12bf144"
  },
  {
   "cell_type": "code",
   "outputs": [
    {
     "name": "stdout",
     "output_type": "stream",
     "text": [
      "Никита Бушуев\n"
     ]
    }
   ],
   "source": [
    "first_name = \"Никита\"\n",
    "last_name = \"Бушуев\"\n",
    "full_name = first_name + \" \" + last_name\n",
    "print(full_name)"
   ],
   "metadata": {
    "collapsed": false,
    "ExecuteTime": {
     "end_time": "2024-11-08T17:38:03.251058Z",
     "start_time": "2024-11-08T17:38:03.238059Z"
    }
   },
   "id": "19fe96c5dadd5423",
   "execution_count": 7
  },
  {
   "cell_type": "markdown",
   "source": [
    "Задание 8: Поменять местами первую и последнюю буквы имени"
   ],
   "metadata": {
    "collapsed": false
   },
   "id": "d2bfdb68b39338cf"
  },
  {
   "cell_type": "code",
   "outputs": [
    {
     "name": "stdout",
     "output_type": "stream",
     "text": [
      "аикитН\n"
     ]
    }
   ],
   "source": [
    "swapped_name = name[-1] + name[1:-1] + name[0]\n",
    "print(swapped_name)"
   ],
   "metadata": {
    "collapsed": false,
    "ExecuteTime": {
     "end_time": "2024-11-08T17:38:05.352363Z",
     "start_time": "2024-11-08T17:38:05.338365Z"
    }
   },
   "id": "7ae5d920aa709ed8",
   "execution_count": 8
  },
  {
   "cell_type": "markdown",
   "source": [
    "Задание 9: Запрос возраста и вывод возраста в следующем году"
   ],
   "metadata": {
    "collapsed": false
   },
   "id": "f6909f3ba8935886"
  },
  {
   "cell_type": "code",
   "outputs": [
    {
     "name": "stdout",
     "output_type": "stream",
     "text": [
      "В следующем году вам будет 22 лет.\n"
     ]
    }
   ],
   "source": [
    "age = int(input(\"Введите ваш возраст: \"))\n",
    "print(\"В следующем году вам будет\", age + 1, \"лет.\")\n"
   ],
   "metadata": {
    "collapsed": false,
    "ExecuteTime": {
     "end_time": "2024-11-08T17:38:11.228569Z",
     "start_time": "2024-11-08T17:38:07.345314Z"
    }
   },
   "id": "f9240d81f7d9dec6",
   "execution_count": 9
  },
  {
   "cell_type": "markdown",
   "source": [
    "Задание 10: Конвертация температуры из Цельсия в Фаренгейт и Кельвин"
   ],
   "metadata": {
    "collapsed": false
   },
   "id": "b937003fcb89f66a"
  },
  {
   "cell_type": "code",
   "outputs": [
    {
     "name": "stdout",
     "output_type": "stream",
     "text": [
      "Температура по Фаренгейту: 42.8\n",
      "Температура по Кельвину: 279.15\n"
     ]
    }
   ],
   "source": [
    "celsius = float(input(\"Введите температуру в градусах Цельсия: \"))\n",
    "fahrenheit = (celsius * 9/5) + 32\n",
    "kelvin = celsius + 273.15\n",
    "print(\"Температура по Фаренгейту:\", fahrenheit)\n",
    "print(\"Температура по Кельвину:\", kelvin)"
   ],
   "metadata": {
    "collapsed": false,
    "ExecuteTime": {
     "end_time": "2024-11-08T17:38:17.693165Z",
     "start_time": "2024-11-08T17:38:14.188948Z"
    }
   },
   "id": "66350250f4ae25ae",
   "execution_count": 10
  },
  {
   "cell_type": "markdown",
   "source": [
    "Задание 11: Запрос двух чисел и вывод результата возведения в степени"
   ],
   "metadata": {
    "collapsed": false
   },
   "id": "4b08a1a2119282bf"
  },
  {
   "cell_type": "code",
   "outputs": [
    {
     "name": "stdout",
     "output_type": "stream",
     "text": [
      "1 в степени 2 равно 1, 2 в степени 1 равно 2\n"
     ]
    }
   ],
   "source": [
    "a = int(input(\"Введите первое число: \"))\n",
    "b = int(input(\"Введите второе число: \"))\n",
    "result1 = a ** b\n",
    "result2 = b ** a\n",
    "print(f\"{a} в степени {b} равно {result1}, {b} в степени {a} равно {result2}\")"
   ],
   "metadata": {
    "collapsed": false,
    "ExecuteTime": {
     "end_time": "2024-11-08T17:38:24.136973Z",
     "start_time": "2024-11-08T17:38:20.865272Z"
    }
   },
   "id": "6c34a5506d570ea",
   "execution_count": 11
  },
  {
   "cell_type": "markdown",
   "source": [
    "Задание 12: Приветственное сообщение с именем и фамилией"
   ],
   "metadata": {
    "collapsed": false
   },
   "id": "702b134185f3ec91"
  },
  {
   "cell_type": "code",
   "outputs": [
    {
     "name": "stdout",
     "output_type": "stream",
     "text": [
      "Hello Никита Бушуев.\n"
     ]
    }
   ],
   "source": [
    "first_name = input(\"Введите ваше имя: \")\n",
    "last_name = input(\"Введите вашу фамилию: \")\n",
    "print(f\"Hello {first_name} {last_name}.\")"
   ],
   "metadata": {
    "collapsed": false,
    "ExecuteTime": {
     "end_time": "2024-11-08T17:38:40.068826Z",
     "start_time": "2024-11-08T17:38:32.476013Z"
    }
   },
   "id": "7891622c53c6a470",
   "execution_count": 12
  },
  {
   "cell_type": "markdown",
   "source": [
    " Задание 13: Сумма двух чисел"
   ],
   "metadata": {
    "collapsed": false
   },
   "id": "d022c189236f04a7"
  },
  {
   "cell_type": "code",
   "outputs": [
    {
     "name": "stdout",
     "output_type": "stream",
     "text": [
      "The total is 3.0.\n"
     ]
    }
   ],
   "source": [
    "num1 = float(input(\"Введите первое число: \"))\n",
    "num2 = float(input(\"Введите второе число: \"))\n",
    "total = num1 + num2\n",
    "print(f\"The total is {total}.\")"
   ],
   "metadata": {
    "collapsed": false,
    "ExecuteTime": {
     "end_time": "2024-11-08T17:38:44.655714Z",
     "start_time": "2024-11-08T17:38:42.317897Z"
    }
   },
   "id": "cfc7e042dee89ed5",
   "execution_count": 13
  },
  {
   "cell_type": "markdown",
   "source": [
    "Задание 14: Сложение первых двух чисел и умножение суммы на третье число"
   ],
   "metadata": {
    "collapsed": false
   },
   "id": "2b6d87562dd7302c"
  },
  {
   "cell_type": "code",
   "outputs": [
    {
     "name": "stdout",
     "output_type": "stream",
     "text": [
      "The answer is 9.0.\n"
     ]
    }
   ],
   "source": [
    "num1 = float(input(\"Введите первое число: \"))\n",
    "num2 = float(input(\"Введите второе число: \"))\n",
    "num3 = float(input(\"Введите третье число: \"))\n",
    "answer = (num1 + num2) * num3\n",
    "print(f\"The answer is {answer}.\")"
   ],
   "metadata": {
    "collapsed": false,
    "ExecuteTime": {
     "end_time": "2024-11-08T17:38:49.695463Z",
     "start_time": "2024-11-08T17:38:47.322018Z"
    }
   },
   "id": "16efae184ab9203d",
   "execution_count": 14
  },
  {
   "cell_type": "markdown",
   "source": [
    "Задание 15: Проверка, является ли слово палиндромом"
   ],
   "metadata": {
    "collapsed": false
   },
   "id": "57c2c8327411d9ce"
  },
  {
   "cell_type": "code",
   "outputs": [
    {
     "name": "stdout",
     "output_type": "stream",
     "text": [
      "Слово не является палиндромом.\n"
     ]
    }
   ],
   "source": [
    "word = input(\"Введите слово: \")\n",
    "is_palindrome = word == word[::-1]\n",
    "print(\"Слово является палиндромом:\" if is_palindrome else \"Слово не является палиндромом.\")"
   ],
   "metadata": {
    "collapsed": false,
    "ExecuteTime": {
     "end_time": "2024-11-08T17:38:59.563616Z",
     "start_time": "2024-11-08T17:38:52.632951Z"
    }
   },
   "id": "7068cc927e0e7d0e",
   "execution_count": 15
  },
  {
   "cell_type": "markdown",
   "source": [
    "Задание 16: Логическое выражение для определения, что число A является трехзначным"
   ],
   "metadata": {
    "collapsed": false
   },
   "id": "e9e926fa896865cb"
  },
  {
   "cell_type": "code",
   "outputs": [
    {
     "name": "stdout",
     "output_type": "stream",
     "text": [
      "True\n"
     ]
    }
   ],
   "source": [
    "A = 123\n",
    "is_three_digit = 100 <= abs(A) <= 999\n",
    "print(is_three_digit)"
   ],
   "metadata": {
    "collapsed": false,
    "ExecuteTime": {
     "end_time": "2024-11-08T17:39:02.567784Z",
     "start_time": "2024-11-08T17:39:02.555788Z"
    }
   },
   "id": "5dc91c3b5948a245",
   "execution_count": 16
  },
  {
   "cell_type": "markdown",
   "source": [
    "Задание 17: Условие, когда целое A не кратно трем и оканчивается нулем"
   ],
   "metadata": {
    "collapsed": false
   },
   "id": "6e40693c2ff173a3"
  },
  {
   "cell_type": "code",
   "outputs": [
    {
     "name": "stdout",
     "output_type": "stream",
     "text": [
      "False\n"
     ]
    }
   ],
   "source": [
    "A = 120\n",
    "condition = A % 3 != 0 and A % 10 == 0\n",
    "print(condition)"
   ],
   "metadata": {
    "collapsed": false,
    "ExecuteTime": {
     "end_time": "2024-11-08T17:39:04.665546Z",
     "start_time": "2024-11-08T17:39:04.646537Z"
    }
   },
   "id": "fd8ba5d92b7b6bc8",
   "execution_count": 17
  },
  {
   "cell_type": "markdown",
   "source": [
    "Задание 18: Логическое выражение для четырехзначного числа, не равного 4999"
   ],
   "metadata": {
    "collapsed": false
   },
   "id": "d019dafc3a8519f9"
  },
  {
   "cell_type": "code",
   "outputs": [
    {
     "name": "stdout",
     "output_type": "stream",
     "text": [
      "True\n"
     ]
    }
   ],
   "source": [
    "A = 5000\n",
    "is_four_digit_not_4999 = 1000 <= A <= 9999 and A != 4999\n",
    "print(is_four_digit_not_4999)"
   ],
   "metadata": {
    "collapsed": false,
    "ExecuteTime": {
     "end_time": "2024-11-08T17:39:06.334195Z",
     "start_time": "2024-11-08T17:39:06.324197Z"
    }
   },
   "id": "6ea6c439e20b3777",
   "execution_count": 18
  },
  {
   "cell_type": "markdown",
   "source": [
    "Задание 19: Условие, когда только одно из чисел A, B и C меньше 45"
   ],
   "metadata": {
    "collapsed": false
   },
   "id": "ab22bbf668863f82"
  },
  {
   "cell_type": "code",
   "outputs": [
    {
     "name": "stdout",
     "output_type": "stream",
     "text": [
      "True\n"
     ]
    }
   ],
   "source": [
    "A, B, C = 30, 50, 60\n",
    "one_less_than_45 = (A < 45) + (B < 45) + (C < 45) == 1\n",
    "print(one_less_than_45)"
   ],
   "metadata": {
    "collapsed": false,
    "ExecuteTime": {
     "end_time": "2024-11-08T17:39:08.671604Z",
     "start_time": "2024-11-08T17:39:08.663603Z"
    }
   },
   "id": "fdb7d12bbf22a949",
   "execution_count": 19
  },
  {
   "cell_type": "markdown",
   "source": [
    "Задание 20: Условие, когда только одно из чисел A и B четное"
   ],
   "metadata": {
    "collapsed": false
   },
   "id": "a4c6c5a481ea828c"
  },
  {
   "cell_type": "code",
   "outputs": [
    {
     "name": "stdout",
     "output_type": "stream",
     "text": [
      "True\n"
     ]
    }
   ],
   "source": [
    "A, B = 4, 5\n",
    "only_one_even = (A % 2 == 0) != (B % 2 == 0)\n",
    "print(only_one_even)"
   ],
   "metadata": {
    "collapsed": false,
    "ExecuteTime": {
     "end_time": "2024-11-08T17:39:10.493021Z",
     "start_time": "2024-11-08T17:39:10.485022Z"
    }
   },
   "id": "1602b3804d05cc1e",
   "execution_count": 20
  },
  {
   "cell_type": "markdown",
   "source": [
    "Задание 21: Проверка двузначного числа на наличие цифр 5 и 3"
   ],
   "metadata": {
    "collapsed": false
   },
   "id": "a03fccc8f500eaf7"
  },
  {
   "cell_type": "code",
   "outputs": [
    {
     "name": "stdout",
     "output_type": "stream",
     "text": [
      "True True\n"
     ]
    }
   ],
   "source": [
    "number = 53\n",
    "has_digit_5 = '5' in str(number)\n",
    "has_digit_3 = '3' in str(number)\n",
    "print(has_digit_5, has_digit_3)"
   ],
   "metadata": {
    "collapsed": false,
    "ExecuteTime": {
     "end_time": "2024-11-08T17:39:12.323240Z",
     "start_time": "2024-11-08T17:39:12.307238Z"
    }
   },
   "id": "e3583a56fa41a551",
   "execution_count": 21
  },
  {
   "cell_type": "markdown",
   "source": [
    "Задание 22: Проверка четырехзначного числа: a) равенство сумм первых и последних двух цифр; б) кратность 7 сумме цифр"
   ],
   "metadata": {
    "collapsed": false
   },
   "id": "bf826f272687b4c7"
  },
  {
   "cell_type": "code",
   "outputs": [
    {
     "name": "stdout",
     "output_type": "stream",
     "text": [
      "False False\n"
     ]
    }
   ],
   "source": [
    "number = 1234\n",
    "str_num = str(number)\n",
    "sum_first_two = int(str_num[0]) + int(str_num[1])\n",
    "sum_last_two = int(str_num[2]) + int(str_num[3])\n",
    "is_equal_sums = sum_first_two == sum_last_two\n",
    "sum_of_digits = sum(int(digit) for digit in str_num)\n",
    "is_divisible_by_7 = sum_of_digits % 7 == 0\n",
    "print(is_equal_sums, is_divisible_by_7)"
   ],
   "metadata": {
    "collapsed": false,
    "ExecuteTime": {
     "end_time": "2024-11-08T17:39:15.162388Z",
     "start_time": "2024-11-08T17:39:15.155389Z"
    }
   },
   "id": "edced47234df7673",
   "execution_count": 22
  },
  {
   "cell_type": "markdown",
   "source": [
    "Задание 23: Удаление i-го символа из строки"
   ],
   "metadata": {
    "collapsed": false
   },
   "id": "cd58f9da0248b737"
  },
  {
   "cell_type": "code",
   "outputs": [
    {
     "name": "stdout",
     "output_type": "stream",
     "text": [
      "привт\n"
     ]
    }
   ],
   "source": [
    "string = \"привет\"\n",
    "i = 4\n",
    "modified_string = string[:i] + string[i+1:]\n",
    "print(modified_string)\n"
   ],
   "metadata": {
    "collapsed": false,
    "ExecuteTime": {
     "end_time": "2024-11-08T17:39:17.114596Z",
     "start_time": "2024-11-08T17:39:17.100597Z"
    }
   },
   "id": "67bed652b930fce2",
   "execution_count": 23
  },
  {
   "cell_type": "markdown",
   "source": [
    "Задание 24: Создание строки HTML с тегами вокруг слова"
   ],
   "metadata": {
    "collapsed": false
   },
   "id": "381489b008d72df9"
  },
  {
   "cell_type": "code",
   "outputs": [
    {
     "name": "stdout",
     "output_type": "stream",
     "text": [
      "<i>привет</i>\n"
     ]
    }
   ],
   "source": [
    "word = \"привет\"\n",
    "tag = \"i\"\n",
    "html_string = f\"<{tag}>{word}</{tag}>\"\n",
    "print(html_string)"
   ],
   "metadata": {
    "collapsed": false,
    "ExecuteTime": {
     "end_time": "2024-11-08T17:39:19.930658Z",
     "start_time": "2024-11-08T17:39:19.916659Z"
    }
   },
   "id": "8efcbbd92e45f128",
   "execution_count": 24
  },
  {
   "cell_type": "markdown",
   "source": [
    "Задание 25: Замена пробелов на знак нижнего подчеркивания"
   ],
   "metadata": {
    "collapsed": false
   },
   "id": "bf156dce309a202d"
  },
  {
   "cell_type": "code",
   "outputs": [
    {
     "name": "stdout",
     "output_type": "stream",
     "text": [
      "мама_мыла_раму\n"
     ]
    }
   ],
   "source": [
    "sentence = \"мама мыла раму\"\n",
    "modified_sentence = sentence.replace(\" \", \"_\")\n",
    "print(modified_sentence)\n"
   ],
   "metadata": {
    "collapsed": false,
    "ExecuteTime": {
     "end_time": "2024-11-08T17:39:21.569661Z",
     "start_time": "2024-11-08T17:39:21.561657Z"
    }
   },
   "id": "d83a83e47959889b",
   "execution_count": 25
  },
  {
   "cell_type": "markdown",
   "source": [
    "Задание 26: Проверка любимого цвета"
   ],
   "metadata": {
    "collapsed": false
   },
   "id": "4b65ebc18111b995"
  },
  {
   "cell_type": "code",
   "outputs": [
    {
     "name": "stdout",
     "output_type": "stream",
     "text": [
      "Мне тоже нравится красный\n"
     ]
    }
   ],
   "source": [
    "color = input(\"Введите ваш любимый цвет: \").strip()\n",
    "if color.lower() == \"red\":\n",
    "    print(\"Мне тоже нравится красный\")\n",
    "else:\n",
    "    print(f\"Мне не нравится цвет {color}, я люблю красный\")"
   ],
   "metadata": {
    "collapsed": false,
    "ExecuteTime": {
     "end_time": "2024-11-08T17:39:46.024088Z",
     "start_time": "2024-11-08T17:39:42.090085Z"
    }
   },
   "id": "5a385a2c33aa38a8",
   "execution_count": 27
  },
  {
   "cell_type": "markdown",
   "source": [
    "Задание 27: Проверка возраста"
   ],
   "metadata": {
    "collapsed": false
   },
   "id": "256402459fdeb342"
  },
  {
   "cell_type": "code",
   "outputs": [
    {
     "name": "stdout",
     "output_type": "stream",
     "text": [
      "Вы можете голосовать\n"
     ]
    }
   ],
   "source": [
    "age = int(input(\"Введите ваш возраст: \"))\n",
    "if age >= 18:\n",
    "    print(\"Вы можете голосовать\")\n",
    "elif age == 17:\n",
    "    print(\"Вы можете учиться на права\")\n",
    "elif age == 16:\n",
    "    print(\"Вы можете покупать лотерейные билеты\")\n",
    "else:\n",
    "    print(\"You can go Trick-or-Treating\")"
   ],
   "metadata": {
    "collapsed": false,
    "ExecuteTime": {
     "end_time": "2024-11-08T17:39:52.217814Z",
     "start_time": "2024-11-08T17:39:50.307186Z"
    }
   },
   "id": "b57a424cbadfccce",
   "execution_count": 28
  },
  {
   "cell_type": "markdown",
   "source": [
    "Задание 28: Проверка числа"
   ],
   "metadata": {
    "collapsed": false
   },
   "id": "4aabdfe96826d73b"
  },
  {
   "cell_type": "code",
   "outputs": [
    {
     "name": "stdout",
     "output_type": "stream",
     "text": [
      "Too low\n"
     ]
    }
   ],
   "source": [
    "number = int(input(\"Введите число: \"))\n",
    "if number < 10:\n",
    "    print(\"Too low\")\n",
    "elif 10 <= number <= 20:\n",
    "    print(\"Correct\")\n",
    "else:\n",
    "    print(\"Too high\")"
   ],
   "metadata": {
    "collapsed": false,
    "ExecuteTime": {
     "end_time": "2024-11-08T17:39:57.235304Z",
     "start_time": "2024-11-08T17:39:55.056015Z"
    }
   },
   "id": "faec417726cbadc6",
   "execution_count": 29
  },
  {
   "cell_type": "markdown",
   "source": [
    "Задание 29: Проверка выбора значения 1, 2 или 3"
   ],
   "metadata": {
    "collapsed": false
   },
   "id": "2cbe9de119843621"
  },
  {
   "cell_type": "code",
   "outputs": [
    {
     "name": "stdout",
     "output_type": "stream",
     "text": [
      "Thank you\n"
     ]
    }
   ],
   "source": [
    "choice = int(input(\"Введите значение (1, 2 или 3): \"))\n",
    "if choice == 1:\n",
    "    print(\"Thank you\")\n",
    "elif choice == 2:\n",
    "    print(\"Well done\")\n",
    "elif choice == 3:\n",
    "    print(\"Correct\")\n",
    "else:\n",
    "    print(\"Error message\")"
   ],
   "metadata": {
    "collapsed": false,
    "ExecuteTime": {
     "end_time": "2024-11-08T17:40:02.721999Z",
     "start_time": "2024-11-08T17:40:01.348511Z"
    }
   },
   "id": "1de2d9ee8388d543",
   "execution_count": 30
  },
  {
   "cell_type": "markdown",
   "source": [
    "Задание 30: Работа со строкой s"
   ],
   "metadata": {
    "collapsed": false
   },
   "id": "40629c084cd8b790"
  },
  {
   "cell_type": "code",
   "outputs": [
    {
     "name": "stdout",
     "output_type": "stream",
     "text": [
      "10\n",
      "2\n",
      "У ЛУКОМОРЬЯ 123 ДУБ ЗЕЛЕНЫЙ 456\n",
      "у лукоморья 123 дуб зеленый 456\n",
      "О лукоморья 123 дуб зеленый 456\n"
     ]
    }
   ],
   "source": [
    "s = \"У лукоморья 123 дуб зеленый 456\"\n",
    "print(s.find(\"я\"))\n",
    "print(s.count(\"у\"))\n",
    "if not s.isalpha():\n",
    "    print(s.upper())\n",
    "print(s.lower() if len(s) > 4 else s)\n",
    "modified_s = \"О\" + s[1:]\n",
    "print(modified_s)"
   ],
   "metadata": {
    "collapsed": false,
    "ExecuteTime": {
     "end_time": "2024-11-08T17:40:05.420126Z",
     "start_time": "2024-11-08T17:40:05.403127Z"
    }
   },
   "id": "4e25232dfc921c8",
   "execution_count": 31
  },
  {
   "cell_type": "markdown",
   "source": [
    "Задание 31: Работа с вводом строки и её части"
   ],
   "metadata": {
    "collapsed": false
   },
   "id": "eef80c8df6f8c939"
  },
  {
   "cell_type": "code",
   "outputs": [
    {
     "name": "stdout",
     "output_type": "stream",
     "text": [
      "Длина строки: 11\n",
      "Часть строки:  \n"
     ]
    }
   ],
   "source": [
    "line = input(\"Введите первую строку стихотворения: \")\n",
    "print(\"Длина строки:\", len(line))\n",
    "start = int(input(\"Введите начальную позицию: \"))\n",
    "end = int(input(\"Введите конечную позицию: \"))\n",
    "print(\"Часть строки:\", line[start:end])\n"
   ],
   "metadata": {
    "collapsed": false,
    "ExecuteTime": {
     "end_time": "2024-11-08T17:40:21.908779Z",
     "start_time": "2024-11-08T17:40:10.478373Z"
    }
   },
   "id": "37935e336b3e2b36",
   "execution_count": 32
  },
  {
   "cell_type": "markdown",
   "source": [
    "Задание 32: Проверка счастливого билета"
   ],
   "metadata": {
    "collapsed": false
   },
   "id": "f76cbd7037434257"
  },
  {
   "cell_type": "code",
   "outputs": [
    {
     "name": "stdout",
     "output_type": "stream",
     "text": [
      "Несчастливый билет\n"
     ]
    }
   ],
   "source": [
    "ticket_number = input(\"Введите номер билета (6 цифр): \")\n",
    "if len(ticket_number) == 6:\n",
    "    first_sum = sum(int(digit) for digit in ticket_number[:3])\n",
    "    second_sum = sum(int(digit) for digit in ticket_number[3:])\n",
    "    print(\"Счастливый билет\" if first_sum == second_sum else \"Несчастливый билет\")\n",
    "else:\n",
    "    print(\"Неверный номер билета\")"
   ],
   "metadata": {
    "collapsed": false,
    "ExecuteTime": {
     "end_time": "2024-11-08T17:40:29.094668Z",
     "start_time": "2024-11-08T17:40:24.896315Z"
    }
   },
   "id": "b53337db610a469b",
   "execution_count": 33
  },
  {
   "cell_type": "markdown",
   "source": [
    "Задание 33: Вычисление площади фигур"
   ],
   "metadata": {
    "collapsed": false
   },
   "id": "618185375fdb375c"
  },
  {
   "cell_type": "code",
   "outputs": [
    {
     "name": "stdout",
     "output_type": "stream",
     "text": [
      "Площадь круга: 113.1\n"
     ]
    }
   ],
   "source": [
    "figure = input(\"Введите тип фигуры (Круг, Треугольник, Прямоугольник): \").strip().lower()\n",
    "if figure == \"круг\":\n",
    "    radius = float(input(\"Введите радиус круга: \"))\n",
    "    area = 3.14159 * radius ** 2\n",
    "    print(\"Площадь круга:\", round(area, 2))\n",
    "elif figure == \"треугольник\":\n",
    "    a = float(input(\"Введите длину стороны A: \"))\n",
    "    b = float(input(\"Введите длину стороны B: \"))\n",
    "    c = float(input(\"Введите длину стороны C: \"))\n",
    "    s = (a + b + c) / 2\n",
    "    area = (s * (s - a) * (s - b) * (s - c)) ** 0.5\n",
    "    print(\"Площадь треугольника:\", round(area, 2))\n",
    "elif figure == \"прямоугольник\":\n",
    "    length = float(input(\"Введите длину: \"))\n",
    "    width = float(input(\"Введите ширину: \"))\n",
    "    area = length * width\n",
    "    print(\"Площадь прямоугольника:\", round(area, 2))\n",
    "else:\n",
    "    print(\"Некорректный тип фигуры\")"
   ],
   "metadata": {
    "collapsed": false,
    "ExecuteTime": {
     "end_time": "2024-11-08T17:40:38.245179Z",
     "start_time": "2024-11-08T17:40:31.766350Z"
    }
   },
   "id": "9cbab23a2442e9fd",
   "execution_count": 34
  },
  {
   "cell_type": "markdown",
   "source": [
    "Задание 34: Кино-билеты с учетом скидок"
   ],
   "metadata": {
    "collapsed": false
   },
   "id": "5c13851616040f3d"
  },
  {
   "cell_type": "code",
   "outputs": [
    {
     "name": "stdout",
     "output_type": "stream",
     "text": [
      "Результат: 475.0 руб.\n"
     ]
    }
   ],
   "source": [
    "movie = input(\"Выбрать фильм (Паразиты или 1917): \").strip()\n",
    "day = input(\"Выбрать день (сегодня или завтра): \").strip()\n",
    "time = int(input(\"Выбрать время (10, 12, 13 или 16): \"))\n",
    "tickets = int(input(\"Выбрать количество билетов: \"))\n",
    "price = 0\n",
    "if movie == \"Паразиты\":\n",
    "    if time == 12:\n",
    "        price = 250\n",
    "    elif time == 16:\n",
    "        price = 350\n",
    "elif movie == \"1917\":\n",
    "    if time == 10:\n",
    "        price = 250\n",
    "    elif time == 13:\n",
    "        price = 350\n",
    "if price == 0:\n",
    "    print(\"Ошибка ввода.\")\n",
    "else:\n",
    "    total = price * tickets\n",
    "    if day == \"завтра\":\n",
    "        total *= 0.95\n",
    "    if tickets >= 5:\n",
    "        total *= 0.9\n",
    "    print(f\"Результат: {total:.1f} руб.\")"
   ],
   "metadata": {
    "collapsed": false,
    "ExecuteTime": {
     "end_time": "2024-11-08T17:41:00.164663Z",
     "start_time": "2024-11-08T17:40:41.980439Z"
    }
   },
   "id": "881a80067481e2c3",
   "execution_count": 35
  }
 ],
 "metadata": {
  "kernelspec": {
   "display_name": "Python 3",
   "language": "python",
   "name": "python3"
  },
  "language_info": {
   "codemirror_mode": {
    "name": "ipython",
    "version": 2
   },
   "file_extension": ".py",
   "mimetype": "text/x-python",
   "name": "python",
   "nbconvert_exporter": "python",
   "pygments_lexer": "ipython2",
   "version": "2.7.6"
  }
 },
 "nbformat": 4,
 "nbformat_minor": 5
}
