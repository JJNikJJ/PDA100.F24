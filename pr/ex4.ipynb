{
 "cells": [
  {
   "cell_type": "code",
   "execution_count": 2,
   "id": "initial_id",
   "metadata": {
    "collapsed": true,
    "ExecuteTime": {
     "end_time": "2024-11-09T07:53:46.116723Z",
     "start_time": "2024-11-09T07:53:46.102729Z"
    }
   },
   "outputs": [],
   "source": [
    "import random\n",
    "from collections import Counter"
   ]
  },
  {
   "cell_type": "code",
   "outputs": [
    {
     "name": "stdout",
     "output_type": "stream",
     "text": [
      "{'vk': {'revenue': 103, 'cost': 98, 'ROI': 5.1}, 'yandex': {'revenue': 179, 'cost': 153, 'ROI': 16.99}, 'ok': {'revenue': 103, 'cost': 110, 'ROI': -6.36}, 'adwords': {'revenue': 35, 'cost': 34, 'ROI': 2.94}, 'twitter': {'revenue': 11, 'cost': 24, 'ROI': -54.17}}\n"
     ]
    }
   ],
   "source": [
    "# Задание 1: Добавить показатель ROI в структуру данных\n",
    "def calculate_roi(results):\n",
    "    for source, metrics in results.items():\n",
    "        revenue = metrics['revenue']\n",
    "        cost = metrics['cost']\n",
    "        roi = (revenue / cost - 1) * 100\n",
    "        metrics['ROI'] = round(roi, 2)\n",
    "    return results\n",
    "\n",
    "results = {\n",
    "    'vk': {'revenue': 103, 'cost': 98},\n",
    "    'yandex': {'revenue': 179, 'cost': 153},\n",
    "    'ok': {'revenue': 103, 'cost': 110},\n",
    "    'adwords': {'revenue': 35, 'cost': 34},\n",
    "    'twitter': {'revenue': 11, 'cost': 24},\n",
    "}\n",
    "print(calculate_roi(results))"
   ],
   "metadata": {
    "collapsed": false,
    "ExecuteTime": {
     "end_time": "2024-11-09T07:53:47.703721Z",
     "start_time": "2024-11-09T07:53:47.674724Z"
    }
   },
   "id": "34367beb1fd83be3",
   "execution_count": 3
  },
  {
   "cell_type": "code",
   "outputs": [
    {
     "name": "stdout",
     "output_type": "stream",
     "text": [
      "Поисковых запросов, содержащих 3 слов(а): 57.14%\n",
      "Поисковых запросов, содержащих 2 слов(а): 42.86%\n"
     ]
    }
   ],
   "source": [
    "# Задание 2: Распределение количества слов в запросах\n",
    "def query_word_count_distribution(queries):\n",
    "    word_counts = [len(query.split()) for query in queries]\n",
    "    total_queries = len(queries)\n",
    "    count_distribution = Counter(word_counts)\n",
    "    for word_count, count in count_distribution.items():\n",
    "        percentage = (count / total_queries) * 100\n",
    "        print(f\"Поисковых запросов, содержащих {word_count} слов(а): {round(percentage, 2)}%\")\n",
    "\n",
    "queries = [\n",
    "    'смотреть сериалы онлайн',\n",
    "    'новости спорта',\n",
    "    'афиша кино',\n",
    "    'курс доллара',\n",
    "    'сериалы этим летом',\n",
    "    'курс по питону',\n",
    "    'сериалы про спорт',\n",
    "]\n",
    "query_word_count_distribution(queries)"
   ],
   "metadata": {
    "collapsed": false,
    "ExecuteTime": {
     "end_time": "2024-11-09T07:53:49.933779Z",
     "start_time": "2024-11-09T07:53:49.915781Z"
    }
   },
   "id": "21c7213d54d244f7",
   "execution_count": 4
  },
  {
   "cell_type": "code",
   "outputs": [
    {
     "name": "stdout",
     "output_type": "stream",
     "text": [
      "Максимальная температура: 28.2\n",
      "Минимальная температура: 0.8\n",
      "Средняя температура: 14.848309178743966\n",
      "Уникальных температур: 217\n"
     ]
    }
   ],
   "source": [
    "# Задание 3: Анализ температур из файла temper.stat\n",
    "def analyze_temperatures(filename=\"temper.stat\"):\n",
    "    with open(filename) as file:\n",
    "        temps = list(map(float, file.readlines()))\n",
    "    max_temp = max(temps)\n",
    "    min_temp = min(temps)\n",
    "    avg_temp = sum(temps) / len(temps)\n",
    "    unique_temps = len(set(temps))\n",
    "    print(f\"Максимальная температура: {max_temp}\")\n",
    "    print(f\"Минимальная температура: {min_temp}\")\n",
    "    print(f\"Средняя температура: {avg_temp}\")\n",
    "    print(f\"Уникальных температур: {unique_temps}\")\n",
    "    \n",
    "analyze_temperatures()"
   ],
   "metadata": {
    "collapsed": false,
    "ExecuteTime": {
     "end_time": "2024-11-09T07:53:52.230482Z",
     "start_time": "2024-11-09T07:53:52.213484Z"
    }
   },
   "id": "1110455f7c58caed",
   "execution_count": 5
  },
  {
   "cell_type": "code",
   "outputs": [
    {
     "name": "stdout",
     "output_type": "stream",
     "text": [
      "Длина самого длинного слова: 12\n",
      "Самые длинные слова: ['alternative,']\n"
     ]
    }
   ],
   "source": [
    "# Задание 4: Определение самого длинного слова в файле\n",
    "def longest_word(filename=\"text.txt\"):\n",
    "    with open(filename) as file:\n",
    "        words = file.read().split()\n",
    "    max_length = max(len(word) for word in words)\n",
    "    longest_words = [word for word in words if len(word) == max_length]\n",
    "    print(f\"Длина самого длинного слова: {max_length}\")\n",
    "    print(\"Самые длинные слова:\", longest_words)\n",
    "    \n",
    "longest_word()"
   ],
   "metadata": {
    "collapsed": false,
    "ExecuteTime": {
     "end_time": "2024-11-09T07:53:53.819480Z",
     "start_time": "2024-11-09T07:53:53.791482Z"
    }
   },
   "id": "aabd24e03227b44",
   "execution_count": 6
  },
  {
   "cell_type": "code",
   "outputs": [
    {
     "name": "stdout",
     "output_type": "stream",
     "text": [
      "But: 1\n",
      "soft: 1\n",
      "what: 1\n",
      "light: 1\n",
      "through: 1\n",
      "yonder: 1\n",
      "window: 1\n",
      "breaks: 1\n",
      "It: 1\n",
      "is: 3\n",
      "the: 3\n",
      "east: 1\n",
      "and: 3\n",
      "Juliet: 1\n",
      "sun: 2\n",
      "Arise: 1\n",
      "fair: 1\n",
      "kill: 1\n",
      "envious: 1\n",
      "moon: 1\n",
      "Who: 1\n",
      "already: 1\n",
      "sick: 1\n",
      "pale: 1\n",
      "with: 1\n",
      "grief: 1\n"
     ]
    }
   ],
   "source": [
    "# Задание 5: Частота встречаемости слов из файла на сайте\n",
    "def word_frequency_from_url(url=\"http://dfedorov.spb.ru/python3/src/romeo.txt\"):\n",
    "    import requests\n",
    "    response = requests.get(url)\n",
    "    text = response.text\n",
    "    words = text.split()\n",
    "    word_count = Counter(words)\n",
    "    for word, count in word_count.items():\n",
    "        print(f\"{word}: {count}\")\n",
    "        \n",
    "word_frequency_from_url()"
   ],
   "metadata": {
    "collapsed": false,
    "ExecuteTime": {
     "end_time": "2024-11-09T07:53:55.802892Z",
     "start_time": "2024-11-09T07:53:55.145892Z"
    }
   },
   "id": "952bc205c87aac6",
   "execution_count": 7
  },
  {
   "cell_type": "code",
   "outputs": [
    {
     "name": "stdout",
     "output_type": "stream",
     "text": [
      "Количество букв в верхнем регистре: 11\n",
      "Количество цифр: 0\n",
      "Количество пробелов: 68\n"
     ]
    }
   ],
   "source": [
    "# Задание 6: Анализ файла text.txt\n",
    "def analyze_text_file(filename=\"text.txt\"):\n",
    "    with open(filename) as file:\n",
    "        content = file.read()\n",
    "    upper_count = sum(1 for char in content if char.isupper())\n",
    "    digit_count = sum(1 for char in content if char.isdigit())\n",
    "    space_count = sum(1 for char in content if char.isspace())\n",
    "    print(f\"Количество букв в верхнем регистре: {upper_count}\")\n",
    "    print(f\"Количество цифр: {digit_count}\")\n",
    "    print(f\"Количество пробелов: {space_count}\")\n",
    "    \n",
    "analyze_text_file()"
   ],
   "metadata": {
    "collapsed": false,
    "ExecuteTime": {
     "end_time": "2024-11-09T07:53:58.284041Z",
     "start_time": "2024-11-09T07:53:58.271041Z"
    }
   },
   "id": "c39611689bb0c58f",
   "execution_count": 8
  },
  {
   "cell_type": "code",
   "outputs": [
    {
     "name": "stdout",
     "output_type": "stream",
     "text": [
      "No.\n",
      "Unclear.\n",
      "Try again.\n",
      "Not now.\n"
     ]
    }
   ],
   "source": [
    "# Задание 7: Волшебный шар предсказаний\n",
    "def magic_ball():\n",
    "    with open(\"responses.txt\") as file:\n",
    "        responses = file.readlines()\n",
    "    while True:\n",
    "        question = input(\"Задайте вопрос (или 'выход' для завершения): \")\n",
    "        if question.lower() == \"выход\":\n",
    "            break\n",
    "        print(random.choice(responses).strip())\n",
    "        \n",
    "magic_ball()"
   ],
   "metadata": {
    "collapsed": false,
    "ExecuteTime": {
     "end_time": "2024-11-09T07:54:16.777765Z",
     "start_time": "2024-11-09T07:54:00.828487Z"
    }
   },
   "id": "885d600a0506f8c2",
   "execution_count": 9
  },
  {
   "cell_type": "code",
   "outputs": [],
   "source": [
    "# Задание 8: Объединение содержимого нескольких файлов\n",
    "def concatenate_files(input_files, output_file):\n",
    "    try:\n",
    "        with open(output_file, 'w') as outfile:\n",
    "            for input_file in input_files:\n",
    "                try:\n",
    "                    with open(input_file, 'r') as infile:\n",
    "                        outfile.write(infile.read())\n",
    "                except FileNotFoundError:\n",
    "                    print(f\"Файл {input_file} не найден.\")\n",
    "    except Exception as e:\n",
    "        print(\"Ошибка при записи в файл:\", e)\n",
    "        \n",
    "concatenate_files([\"text.txt\", \"responses.txt\"], \"output.txt\")\n"
   ],
   "metadata": {
    "collapsed": false,
    "ExecuteTime": {
     "end_time": "2024-11-09T07:54:23.466645Z",
     "start_time": "2024-11-09T07:54:23.451646Z"
    }
   },
   "id": "84eed2bd646620c",
   "execution_count": 11
  },
  {
   "cell_type": "code",
   "outputs": [
    {
     "name": "stdout",
     "output_type": "stream",
     "text": [
      "['CheapCompany', 'SosoCompany']\n"
     ]
    }
   ],
   "source": [
    "# Задание 9: Поиск компаний с оплатой ниже минимальной\n",
    "def companies_with_low_pay(companies, min_wage=9):\n",
    "    low_pay_companies = [company for company, salaries in companies.items() if any(rate < min_wage for rate in salaries.values())]\n",
    "    print(low_pay_companies)\n",
    "\n",
    "companies = {\n",
    "    'CoolCompany': {'Alice': 33, 'Bob': 28, 'Frank': 29},\n",
    "    'CheapCompany': {'Ann': 4, 'Lee': 9, 'Chrisi': 7},\n",
    "    'SosoCompany': {'Esther': 38, 'Cole': 8, 'Paris': 18}\n",
    "}\n",
    "companies_with_low_pay(companies)"
   ],
   "metadata": {
    "collapsed": false,
    "ExecuteTime": {
     "end_time": "2024-11-09T07:54:43.596513Z",
     "start_time": "2024-11-09T07:54:43.578512Z"
    }
   },
   "id": "b3f2b8a7756baf56",
   "execution_count": 13
  }
 ],
 "metadata": {
  "kernelspec": {
   "display_name": "Python 3",
   "language": "python",
   "name": "python3"
  },
  "language_info": {
   "codemirror_mode": {
    "name": "ipython",
    "version": 2
   },
   "file_extension": ".py",
   "mimetype": "text/x-python",
   "name": "python",
   "nbconvert_exporter": "python",
   "pygments_lexer": "ipython2",
   "version": "2.7.6"
  }
 },
 "nbformat": 4,
 "nbformat_minor": 5
}
