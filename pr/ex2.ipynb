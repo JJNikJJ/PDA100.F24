{
 "cells": [
  {
   "cell_type": "code",
   "execution_count": 1,
   "id": "initial_id",
   "metadata": {
    "collapsed": true,
    "ExecuteTime": {
     "end_time": "2024-11-08T18:02:39.863088Z",
     "start_time": "2024-11-08T18:02:39.842091Z"
    }
   },
   "outputs": [
    {
     "name": "stdout",
     "output_type": "stream",
     "text": [
      "4\n",
      "10\n",
      "16\n",
      "22\n",
      "28\n",
      "34\n",
      "40\n",
      "46\n",
      "52\n",
      "58\n",
      "64\n",
      "70\n",
      "76\n",
      "82\n",
      "88\n",
      "94\n",
      "100\n",
      "106\n",
      "112\n",
      "118\n",
      "124\n",
      "130\n",
      "136\n",
      "142\n",
      "148\n",
      "154\n",
      "160\n",
      "166\n",
      "172\n",
      "178\n",
      "184\n",
      "190\n",
      "196\n",
      "202\n",
      "208\n",
      "214\n",
      "220\n",
      "226\n",
      "232\n",
      "238\n",
      "244\n",
      "250\n"
     ]
    }
   ],
   "source": [
    "import string\n",
    "\n",
    "# Задание 1: Вывод всех четных чисел на интервале от 1 до 250 с шагом 3\n",
    "for num in range(1, 251, 3):\n",
    "    if num % 2 == 0:\n",
    "        print(num)"
   ]
  },
  {
   "cell_type": "code",
   "outputs": [
    {
     "name": "stdout",
     "output_type": "stream",
     "text": [
      "1200\n"
     ]
    }
   ],
   "source": [
    "# Задание 2: Подсчет суммы четных чисел на интервале от 10 до 150 с шагом 5\n",
    "even_sum = sum(num for num in range(10, 151, 5) if num % 2 == 0)\n",
    "print(even_sum)\n"
   ],
   "metadata": {
    "collapsed": false,
    "ExecuteTime": {
     "end_time": "2024-11-08T18:02:42.390096Z",
     "start_time": "2024-11-08T18:02:42.372101Z"
    }
   },
   "id": "a3d0254a308e00bf",
   "execution_count": 2
  },
  {
   "cell_type": "code",
   "outputs": [
    {
     "name": "stdout",
     "output_type": "stream",
     "text": [
      "Thailand: 23.86°C\n",
      "Germany: 13.8°C\n",
      "Russia: 3.71°C\n",
      "Poland: 12.0°C\n"
     ]
    }
   ],
   "source": [
    "# Задание 3: Расчет средней температуры за период в Цельсиях для каждой страны\n",
    "countries_temperature = [\n",
    "    ['Thailand', [75.2, 77, 78.8, 73.4, 68, 75.2, 77]],\n",
    "    ['Germany', [57.2, 55.4, 59, 59, 53.6]],\n",
    "    ['Russia', [35.6, 37.4, 39.2, 41, 42.8, 39.2, 35.6]],\n",
    "    ['Poland', [50, 50, 53.6, 57.2, 55.4, 55.4]]\n",
    "]\n",
    "\n",
    "for country, temps in countries_temperature:\n",
    "    avg_temp_celsius = sum((temp - 32) * 5/9 for temp in temps) / len(temps)\n",
    "    print(f\"{country}: {round(avg_temp_celsius, 2)}°C\")"
   ],
   "metadata": {
    "collapsed": false,
    "ExecuteTime": {
     "end_time": "2024-11-08T18:02:43.918961Z",
     "start_time": "2024-11-08T18:02:43.908960Z"
    }
   },
   "id": "b68c8e12f35ad012",
   "execution_count": 3
  },
  {
   "cell_type": "code",
   "outputs": [
    {
     "name": "stdout",
     "output_type": "stream",
     "text": [
      "1291\n"
     ]
    }
   ],
   "source": [
    "# Задание 4: Сумма элементов списка, которые >10 и <100 или >200 и <500\n",
    "list_01 = [1, 1, 2, 3, 5, 8, 13, 21, 34, 55, 89, 144, 233, 377, 610, 14, 46, 273, 22, 99, 15, 1000]\n",
    "filtered_sum = sum(num for num in list_01 if (10 < num < 100) or (200 < num < 500))\n",
    "print(filtered_sum)"
   ],
   "metadata": {
    "collapsed": false,
    "ExecuteTime": {
     "end_time": "2024-11-08T18:02:46.381500Z",
     "start_time": "2024-11-08T18:02:46.369503Z"
    }
   },
   "id": "31aceca56649fcd1",
   "execution_count": 4
  },
  {
   "cell_type": "code",
   "outputs": [
    {
     "name": "stdout",
     "output_type": "stream",
     "text": [
      "20\n"
     ]
    }
   ],
   "source": [
    "# Задание 5: Функция для расчета заработной платы\n",
    "def calculate_pay(hours, pay_rate):\n",
    "    return hours * pay_rate\n",
    "\n",
    "print(calculate_pay(5,4))"
   ],
   "metadata": {
    "collapsed": false,
    "ExecuteTime": {
     "end_time": "2024-11-08T18:02:48.095426Z",
     "start_time": "2024-11-08T18:02:48.082427Z"
    }
   },
   "id": "568fcd7985d8ca3b",
   "execution_count": 5
  },
  {
   "cell_type": "code",
   "outputs": [
    {
     "name": "stdout",
     "output_type": "stream",
     "text": [
      "False\n"
     ]
    }
   ],
   "source": [
    "# Задание 6: Функция is_palindrome для проверки палиндрома\n",
    "def is_palindrome(word):\n",
    "    return word == word[::-1]\n",
    "\n",
    "print(is_palindrome(\"Привет\"))"
   ],
   "metadata": {
    "collapsed": false,
    "ExecuteTime": {
     "end_time": "2024-11-08T18:02:49.794626Z",
     "start_time": "2024-11-08T18:02:49.778632Z"
    }
   },
   "id": "9be6acaea9e9bf06",
   "execution_count": 6
  },
  {
   "cell_type": "code",
   "outputs": [
    {
     "name": "stdout",
     "output_type": "stream",
     "text": [
      "6.8\n"
     ]
    }
   ],
   "source": [
    "# Задание 7: Функция для нахождения абсолютного значения\n",
    "def my_abs(number):\n",
    "    return number if number >= 0 else -number\n",
    "\n",
    "print(my_abs(-6.8))"
   ],
   "metadata": {
    "collapsed": false,
    "ExecuteTime": {
     "end_time": "2024-11-08T18:02:51.537983Z",
     "start_time": "2024-11-08T18:02:51.521988Z"
    }
   },
   "id": "9e0b66ed17a11cd0",
   "execution_count": 7
  },
  {
   "cell_type": "code",
   "outputs": [
    {
     "name": "stdout",
     "output_type": "stream",
     "text": [
      "['привет', 'меня', 'зовут', 'никита']\n"
     ]
    }
   ],
   "source": [
    "# Задание 8: Функция str_lower для преобразования строки в список слов в нижнем регистре\n",
    "def str_lower(sentence):\n",
    "    return sentence.lower().split()\n",
    "\n",
    "print(str_lower(\"ПРИВЕТ МЕНЯ ЗОВУТ НИКИТА\"))\n"
   ],
   "metadata": {
    "collapsed": false,
    "ExecuteTime": {
     "end_time": "2024-11-08T18:03:13.874132Z",
     "start_time": "2024-11-08T18:03:13.861132Z"
    }
   },
   "id": "3079be48acf8e9",
   "execution_count": 10
  },
  {
   "cell_type": "code",
   "outputs": [
    {
     "name": "stdout",
     "output_type": "stream",
     "text": [
      "4568\n"
     ]
    }
   ],
   "source": [
    "# Задание 9: Использование join для объединения элементов списка в строку\n",
    "lst = [4, '5', '6', 8]\n",
    "joined_string = ''.join(map(str, lst))\n",
    "print(joined_string)\n"
   ],
   "metadata": {
    "collapsed": false,
    "ExecuteTime": {
     "end_time": "2024-11-08T18:03:16.250954Z",
     "start_time": "2024-11-08T18:03:16.234953Z"
    }
   },
   "id": "3aff408bcabb4343",
   "execution_count": 11
  },
  {
   "cell_type": "code",
   "outputs": [
    {
     "name": "stdout",
     "output_type": "stream",
     "text": [
      "[5]\n"
     ]
    }
   ],
   "source": [
    "# Задание 10: Функция для нахождения общих элементов двух списков\n",
    "def find_common_elements(list1, list2):\n",
    "    return list(set(list1) & set(list2))\n",
    "\n",
    "print(find_common_elements([1,2,3,4,5],[5,6,7,8,9]))"
   ],
   "metadata": {
    "collapsed": false,
    "ExecuteTime": {
     "end_time": "2024-11-08T18:03:17.536076Z",
     "start_time": "2024-11-08T18:03:17.520071Z"
    }
   },
   "id": "e5b7714001f07409",
   "execution_count": 12
  },
  {
   "cell_type": "code",
   "outputs": [
    {
     "name": "stdout",
     "output_type": "stream",
     "text": [
      "(3, 14)\n"
     ]
    }
   ],
   "source": [
    "# Задание 11: Функция для подсчета количества символов в верхнем и нижнем регистре\n",
    "def count_case_chars(s):\n",
    "    upper_count = sum(1 for char in s if char.isupper())\n",
    "    lower_count = sum(1 for char in s if char.islower())\n",
    "    return upper_count, lower_count\n",
    "\n",
    "print(count_case_chars('Привет, как Твои Дела'))"
   ],
   "metadata": {
    "collapsed": false,
    "ExecuteTime": {
     "end_time": "2024-11-08T18:03:18.877762Z",
     "start_time": "2024-11-08T18:03:18.864758Z"
    }
   },
   "id": "f9e431858e650ce9",
   "execution_count": 13
  },
  {
   "cell_type": "code",
   "outputs": [
    {
     "name": "stdout",
     "output_type": "stream",
     "text": [
      "Никита-зовут-меня-привет\n"
     ]
    }
   ],
   "source": [
    "# Задание 12: Функция для сортировки слов в строке, разделенной дефисами\n",
    "def sort_hyphenated_string(s):\n",
    "    return '-'.join(sorted(s.split('-')))\n",
    "\n",
    "print(sort_hyphenated_string('привет-меня-зовут-Никита'))"
   ],
   "metadata": {
    "collapsed": false,
    "ExecuteTime": {
     "end_time": "2024-11-08T18:03:21.596614Z",
     "start_time": "2024-11-08T18:03:21.578614Z"
    }
   },
   "id": "b74438558171ef11",
   "execution_count": 14
  },
  {
   "cell_type": "code",
   "outputs": [
    {
     "name": "stdout",
     "output_type": "stream",
     "text": [
      "224\n",
      "44\n",
      "['the', 'two', 'the', 'the', 'the', 'their', 'the']\n"
     ]
    }
   ],
   "source": [
    "# Задание 13: Анализ строки string_01\n",
    "string_01 = (\"History is always written by the winners. hen two cultures clash, \"\n",
    "             \"the loser is obliterated, and the winner writes the history books-books \"\n",
    "             \"which glorify their own cause and disparage the conquered foe. As Napoleon \"\n",
    "             \"once said, 'What is history, but a fable agreed upon?'\")\n",
    "\n",
    "# 1) Количество символов, исключая пробелы\n",
    "char_count = len(string_01.replace(\" \", \"\"))\n",
    "print(char_count)\n",
    "\n",
    "# 2) Количество слов\n",
    "word_count = len(string_01.split())\n",
    "print(word_count)\n",
    "\n",
    "# 3) Функция для поиска слов, начинающихся на указанную букву\n",
    "def words_starting_with(letter):\n",
    "    return [word for word in string_01.split() if word.startswith(letter)]\n",
    "\n",
    "print(words_starting_with('t'))"
   ],
   "metadata": {
    "collapsed": false,
    "ExecuteTime": {
     "end_time": "2024-11-08T18:03:52.773826Z",
     "start_time": "2024-11-08T18:03:52.758826Z"
    }
   },
   "id": "5ff37c70e12a5985",
   "execution_count": 17
  },
  {
   "cell_type": "code",
   "outputs": [
    {
     "name": "stdout",
     "output_type": "stream",
     "text": [
      "[1.4142135623730951, 2.0, 3.0, 4.0, 5.0]\n"
     ]
    }
   ],
   "source": [
    "# Задание 14: Новый список квадратных корней чисел\n",
    "import math\n",
    "numbers = [2, 4, 9, 16, 25]\n",
    "sqrt_list = [math.sqrt(num) for num in numbers]\n",
    "print(sqrt_list)\n"
   ],
   "metadata": {
    "collapsed": false,
    "ExecuteTime": {
     "end_time": "2024-11-08T18:03:54.989165Z",
     "start_time": "2024-11-08T18:03:54.971162Z"
    }
   },
   "id": "5fed897a132bc2bf",
   "execution_count": 18
  },
  {
   "cell_type": "code",
   "outputs": [
    {
     "name": "stdout",
     "output_type": "stream",
     "text": [
      "-18.0\n"
     ]
    }
   ],
   "source": [
    "# Задание 15: Создание списка из 100 случайных значений и вычисление медианы\n",
    "import random\n",
    "random_numbers = [random.randint(-100, 100) for _ in range(100)]\n",
    "sorted_numbers = sorted(random_numbers)\n",
    "median = sorted_numbers[len(sorted_numbers) // 2] if len(sorted_numbers) % 2 != 0 else (sorted_numbers[len(sorted_numbers) // 2 - 1] + sorted_numbers[len(sorted_numbers) // 2]) / 2\n",
    "print(median)"
   ],
   "metadata": {
    "collapsed": false,
    "ExecuteTime": {
     "end_time": "2024-11-08T18:03:56.550780Z",
     "start_time": "2024-11-08T18:03:56.543784Z"
    }
   },
   "id": "7e2addd5d93e7fc1",
   "execution_count": 19
  },
  {
   "cell_type": "code",
   "outputs": [
    {
     "name": "stdout",
     "output_type": "stream",
     "text": [
      "Количество: 243\n",
      "Сумма: 44302\n"
     ]
    }
   ],
   "source": [
    "# Задание 16: Количество и сумма чисел больше 170 и меньше 195 в случайном списке из 1000 чисел\n",
    "large_random_numbers = [random.randint(100, 200) for _ in range(1000)]\n",
    "filtered_numbers = [num for num in large_random_numbers if 170 < num < 195]\n",
    "print(\"Количество:\", len(filtered_numbers))\n",
    "print(\"Сумма:\", sum(filtered_numbers))"
   ],
   "metadata": {
    "collapsed": false,
    "ExecuteTime": {
     "end_time": "2024-11-08T18:03:58.162534Z",
     "start_time": "2024-11-08T18:03:58.146541Z"
    }
   },
   "id": "bcaa7294a3c2e670",
   "execution_count": 20
  }
 ],
 "metadata": {
  "kernelspec": {
   "display_name": "Python 3",
   "language": "python",
   "name": "python3"
  },
  "language_info": {
   "codemirror_mode": {
    "name": "ipython",
    "version": 2
   },
   "file_extension": ".py",
   "mimetype": "text/x-python",
   "name": "python",
   "nbconvert_exporter": "python",
   "pygments_lexer": "ipython2",
   "version": "2.7.6"
  }
 },
 "nbformat": 4,
 "nbformat_minor": 5
}
